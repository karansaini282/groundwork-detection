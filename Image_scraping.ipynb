{
 "cells": [
  {
   "cell_type": "code",
   "execution_count": 1,
   "metadata": {},
   "outputs": [],
   "source": [
    "import numpy as np\n",
    "import matplotlib.pyplot as plt\n",
    "import geopandas as gpd\n",
    "import shapely\n",
    "from fiona.crs import from_epsg\n",
    "from PIL import Image\n",
    "\n",
    "try:\n",
    "    from urllib import urlretrieve as urlretrieve\n",
    "except ImportError:\n",
    "    from urllib.request import urlretrieve as urlretrieve\n",
    "    \n",
    "%matplotlib inline"
   ]
  },
  {
   "cell_type": "code",
   "execution_count": 2,
   "metadata": {},
   "outputs": [],
   "source": [
    "def show_image(image):\n",
    "    '''\n",
    "    function to display a image within the environment\n",
    "    \n",
    "    parameters:\n",
    "    image : path of the image to be displayed\n",
    "    ''' \n",
    "    image = Image.open(image)\n",
    "    f,ax = plt.subplots(figsize=(5,5))\n",
    "    plt.imshow(image)\n",
    "    ax.set_axis_off()"
   ]
  },
  {
   "cell_type": "markdown",
   "metadata": {},
   "source": [
    "# Download NYC Streets shapefile"
   ]
  },
  {
   "cell_type": "code",
   "execution_count": 3,
   "metadata": {},
   "outputs": [
    {
     "data": {
      "text/plain": [
       "('streets.gz', <http.client.HTTPMessage at 0x7f4b3c103898>)"
      ]
     },
     "execution_count": 3,
     "metadata": {},
     "output_type": "execute_result"
    }
   ],
   "source": [
    "urlretrieve(\"https://data.cityofnewyork.us/api/geospatial/exjm-f27b?method=export&format=Shapefile\",\"streets.gz\")"
   ]
  },
  {
   "cell_type": "code",
   "execution_count": 4,
   "metadata": {},
   "outputs": [
    {
     "name": "stdout",
     "output_type": "stream",
     "text": [
      "Archive:  streets.gz\n",
      "  inflating: geo_export_cff768a4-df34-4ac2-ab32-d238734e3999.dbf  \n",
      "  inflating: geo_export_cff768a4-df34-4ac2-ab32-d238734e3999.shp  \n",
      "  inflating: geo_export_cff768a4-df34-4ac2-ab32-d238734e3999.shx  \n",
      "  inflating: geo_export_cff768a4-df34-4ac2-ab32-d238734e3999.prj  \n"
     ]
    }
   ],
   "source": [
    "!unzip streets.gz"
   ]
  },
  {
   "cell_type": "code",
   "execution_count": 3,
   "metadata": {},
   "outputs": [],
   "source": [
    "streets_shp = gpd.read_file(\"geo_export_cff768a4-df34-4ac2-ab32-d238734e3999.shp\")"
   ]
  },
  {
   "cell_type": "markdown",
   "metadata": {},
   "source": [
    "# All streets in Manhattan only with ~ 25-50 percentile street width"
   ]
  },
  {
   "cell_type": "code",
   "execution_count": 4,
   "metadata": {},
   "outputs": [
    {
     "data": {
      "text/html": [
       "<div>\n",
       "<table border=\"1\" class=\"dataframe\">\n",
       "  <thead>\n",
       "    <tr style=\"text-align: right;\">\n",
       "      <th></th>\n",
       "      <th>frm_lvl_co</th>\n",
       "      <th>l_blkfc_id</th>\n",
       "      <th>physicalid</th>\n",
       "      <th>r_blkfc_id</th>\n",
       "      <th>rw_type</th>\n",
       "      <th>shape_leng</th>\n",
       "      <th>st_width</th>\n",
       "      <th>to_lvl_co</th>\n",
       "    </tr>\n",
       "  </thead>\n",
       "  <tbody>\n",
       "    <tr>\n",
       "      <th>count</th>\n",
       "      <td>13314.000000</td>\n",
       "      <td>1.331400e+04</td>\n",
       "      <td>13314.000000</td>\n",
       "      <td>1.331400e+04</td>\n",
       "      <td>13314.000000</td>\n",
       "      <td>13314.000000</td>\n",
       "      <td>13314.000000</td>\n",
       "      <td>13314.000000</td>\n",
       "    </tr>\n",
       "    <tr>\n",
       "      <th>mean</th>\n",
       "      <td>13.410921</td>\n",
       "      <td>9.451316e+08</td>\n",
       "      <td>74768.677257</td>\n",
       "      <td>9.437554e+08</td>\n",
       "      <td>2.525837</td>\n",
       "      <td>346.199152</td>\n",
       "      <td>31.468830</td>\n",
       "      <td>13.421737</td>\n",
       "    </tr>\n",
       "    <tr>\n",
       "      <th>std</th>\n",
       "      <td>1.974883</td>\n",
       "      <td>5.508674e+08</td>\n",
       "      <td>65234.074439</td>\n",
       "      <td>5.511029e+08</td>\n",
       "      <td>3.035725</td>\n",
       "      <td>579.780872</td>\n",
       "      <td>18.883919</td>\n",
       "      <td>1.981340</td>\n",
       "    </tr>\n",
       "    <tr>\n",
       "      <th>min</th>\n",
       "      <td>4.000000</td>\n",
       "      <td>0.000000e+00</td>\n",
       "      <td>3.000000</td>\n",
       "      <td>0.000000e+00</td>\n",
       "      <td>1.000000</td>\n",
       "      <td>4.511256</td>\n",
       "      <td>0.000000</td>\n",
       "      <td>4.000000</td>\n",
       "    </tr>\n",
       "    <tr>\n",
       "      <th>25%</th>\n",
       "      <td>13.000000</td>\n",
       "      <td>2.122616e+08</td>\n",
       "      <td>3852.250000</td>\n",
       "      <td>2.122617e+08</td>\n",
       "      <td>1.000000</td>\n",
       "      <td>122.248113</td>\n",
       "      <td>22.000000</td>\n",
       "      <td>13.000000</td>\n",
       "    </tr>\n",
       "    <tr>\n",
       "      <th>50%</th>\n",
       "      <td>13.000000</td>\n",
       "      <td>1.222605e+09</td>\n",
       "      <td>77314.500000</td>\n",
       "      <td>1.222605e+09</td>\n",
       "      <td>1.000000</td>\n",
       "      <td>260.754923</td>\n",
       "      <td>30.000000</td>\n",
       "      <td>13.000000</td>\n",
       "    </tr>\n",
       "    <tr>\n",
       "      <th>75%</th>\n",
       "      <td>13.000000</td>\n",
       "      <td>1.322603e+09</td>\n",
       "      <td>133023.750000</td>\n",
       "      <td>1.322603e+09</td>\n",
       "      <td>3.000000</td>\n",
       "      <td>417.118477</td>\n",
       "      <td>42.000000</td>\n",
       "      <td>13.000000</td>\n",
       "    </tr>\n",
       "    <tr>\n",
       "      <th>max</th>\n",
       "      <td>26.000000</td>\n",
       "      <td>1.922616e+09</td>\n",
       "      <td>185059.000000</td>\n",
       "      <td>1.922616e+09</td>\n",
       "      <td>14.000000</td>\n",
       "      <td>26573.752668</td>\n",
       "      <td>120.000000</td>\n",
       "      <td>26.000000</td>\n",
       "    </tr>\n",
       "  </tbody>\n",
       "</table>\n",
       "</div>"
      ],
      "text/plain": [
       "         frm_lvl_co    l_blkfc_id     physicalid    r_blkfc_id       rw_type  \\\n",
       "count  13314.000000  1.331400e+04   13314.000000  1.331400e+04  13314.000000   \n",
       "mean      13.410921  9.451316e+08   74768.677257  9.437554e+08      2.525837   \n",
       "std        1.974883  5.508674e+08   65234.074439  5.511029e+08      3.035725   \n",
       "min        4.000000  0.000000e+00       3.000000  0.000000e+00      1.000000   \n",
       "25%       13.000000  2.122616e+08    3852.250000  2.122617e+08      1.000000   \n",
       "50%       13.000000  1.222605e+09   77314.500000  1.222605e+09      1.000000   \n",
       "75%       13.000000  1.322603e+09  133023.750000  1.322603e+09      3.000000   \n",
       "max       26.000000  1.922616e+09  185059.000000  1.922616e+09     14.000000   \n",
       "\n",
       "         shape_leng      st_width     to_lvl_co  \n",
       "count  13314.000000  13314.000000  13314.000000  \n",
       "mean     346.199152     31.468830     13.421737  \n",
       "std      579.780872     18.883919      1.981340  \n",
       "min        4.511256      0.000000      4.000000  \n",
       "25%      122.248113     22.000000     13.000000  \n",
       "50%      260.754923     30.000000     13.000000  \n",
       "75%      417.118477     42.000000     13.000000  \n",
       "max    26573.752668    120.000000     26.000000  "
      ]
     },
     "execution_count": 4,
     "metadata": {},
     "output_type": "execute_result"
    }
   ],
   "source": [
    "streets_shp[(streets_shp[\"borocode\"]==\"1\")].describe()"
   ]
  },
  {
   "cell_type": "code",
   "execution_count": 6,
   "metadata": {},
   "outputs": [
    {
     "data": {
      "text/plain": [
       "<matplotlib.axes._subplots.AxesSubplot at 0x7f81f36a4048>"
      ]
     },
     "execution_count": 6,
     "metadata": {},
     "output_type": "execute_result"
    },
    {
     "data": {
      "image/png": "[encoded data removed]",
      "text/plain": [
       "<matplotlib.figure.Figure at 0x7f81f369f7f0>"
      ]
     },
     "metadata": {},
     "output_type": "display_data"
    }
   ],
   "source": [
    "streets_shp[(streets_shp[\"borocode\"]==\"1\")&(streets_shp[\"st_width\"]>20)&(streets_shp[\"st_width\"]<30)].plot()"
   ]
  },
  {
   "cell_type": "code",
   "execution_count": 7,
   "metadata": {},
   "outputs": [],
   "source": [
    "mh_streets = streets_shp[(streets_shp[\"borocode\"]==\"1\")&(streets_shp[\"st_width\"]>20)&(streets_shp[\"st_width\"]<30)]['geometry']"
   ]
  },
  {
   "cell_type": "code",
   "execution_count": 8,
   "metadata": {},
   "outputs": [
    {
     "data": {
      "text/plain": [
       "(1707,)"
      ]
     },
     "execution_count": 8,
     "metadata": {},
     "output_type": "execute_result"
    }
   ],
   "source": [
    "mh_streets.shape"
   ]
  },
  {
   "cell_type": "markdown",
   "metadata": {},
   "source": [
    "# Define index to download a subset of images"
   ]
  },
  {
   "cell_type": "code",
   "execution_count": 9,
   "metadata": {},
   "outputs": [],
   "source": [
    "index = range(10)"
   ]
  },
  {
   "cell_type": "markdown",
   "metadata": {},
   "source": [
    "# Define your API key"
   ]
  },
  {
   "cell_type": "code",
   "execution_count": 24,
   "metadata": {},
   "outputs": [],
   "source": [
    "api_key = \"xxxx\""
   ]
  },
  {
   "cell_type": "code",
   "execution_count": 23,
   "metadata": {},
   "outputs": [],
   "source": [
    "for street in mh_streets.get_values()[index]:\n",
    "    for i in np.arange(0,len(street.xy[0]),5):\n",
    "        x = street.xy[0][i]\n",
    "        y = street.xy[1][i]\n",
    "        point = shapely.geometry.Point(x,y)\n",
    "        urlretrieve(\"https://maps.googleapis.com/maps/api/streetview?size=600x600&location=\"+str(point.y)+\",\"+str(point.x)+\"&fov=90&heading=90&pitch=10&key=\"+api_key, \"Images/\"+str(point.y)+\"_\"+str(point.x)+\"_90.png\")\n",
    "        urlretrieve(\"https://maps.googleapis.com/maps/api/streetview?size=600x600&location=\"+str(point.y)+\",\"+str(point.x)+\"&fov=90&heading=180&pitch=10&key=\"+api_key, \"Images/\"+str(point.y)+\"_\"+str(point.x)+\"_180.png\")\n",
    "        urlretrieve(\"https://maps.googleapis.com/maps/api/streetview?size=600x600&location=\"+str(point.y)+\",\"+str(point.x)+\"&fov=90&heading=270&pitch=10&key=\"+api_key, \"Images/\"+str(point.y)+\"_\"+str(point.x)+\"_270.png\")\n",
    "        urlretrieve(\"https://maps.googleapis.com/maps/api/streetview?size=600x600&location=\"+str(point.y)+\",\"+str(point.x)+\"&fov=90&heading=360&pitch=10&key=\"+api_key, \"Images/\"+str(point.y)+\"_\"+str(point.x)+\"_360.png\")"
   ]
  },
  {
   "cell_type": "code",
   "execution_count": null,
   "metadata": {},
   "outputs": [],
   "source": []
  }
 ],
 "metadata": {
  "kernelspec": {
   "display_name": "PUI2016_Python3",
   "language": "python",
   "name": "pui2016_python3"
  },
  "language_info": {
   "codemirror_mode": {
    "name": "ipython",
    "version": 3
   },
   "file_extension": ".py",
   "mimetype": "text/x-python",
   "name": "python",
   "nbconvert_exporter": "python",
   "pygments_lexer": "ipython3",
   "version": "3.5.4"
  }
 },
 "nbformat": 4,
 "nbformat_minor": 2
}
